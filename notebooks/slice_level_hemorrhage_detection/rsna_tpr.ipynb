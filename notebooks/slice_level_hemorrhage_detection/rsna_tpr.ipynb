{
 "cells": [
  {
   "cell_type": "code",
   "execution_count": null,
   "metadata": {},
   "outputs": [],
   "source": [
    "import os\n",
    "import sys\n",
    "import numpy as np\n",
    "import pandas as pd\n",
    "import matplotlib.pyplot as plt\n",
    "import seaborn as sns\n",
    "from tqdm import tqdm\n",
    "\n",
    "root_dir = \"../../\"\n",
    "sys.path.append(root_dir)\n",
    "\n",
    "from dataset import RSNADataset\n",
    "from utils import models, location_performance_t, find_hemorrhages\n",
    "\n",
    "data_dir = os.path.join(root_dir, \"data\")\n",
    "rsna_dir = os.path.join(data_dir, \"RSNA\")\n",
    "prediction_dir = os.path.join(rsna_dir, \"predictions\")\n",
    "figure_dir = os.path.join(root_dir, \"figures\", \"exam_level\")\n",
    "os.makedirs(figure_dir, exist_ok=True)\n",
    "\n",
    "sns.set_theme()\n",
    "sns.set_context(\"paper\", font_scale=1.5)"
   ]
  },
  {
   "cell_type": "code",
   "execution_count": null,
   "metadata": {},
   "outputs": [],
   "source": [
    "dataset = RSNADataset(rsna_dir, op=\"val\", augment=False, weak_supervision=True)\n",
    "\n",
    "true_hemorrhage = []\n",
    "for i in tqdm(range(len(dataset))):\n",
    "    series_id = dataset.series_ids[i]\n",
    "    series_obj = dataset.series_dictionary[series_id]\n",
    "\n",
    "    series = series_obj[\"series\"]\n",
    "    series = np.array(series)\n",
    "\n",
    "    labels = series[:, 1]\n",
    "    labels = labels.astype(int)\n",
    "    sorted_ids = np.load(\n",
    "        os.path.join(rsna_dir, \"series\", f\"{series_id}_sorted_ids.npy\")\n",
    "    )\n",
    "    labels = labels[sorted_ids]\n",
    "\n",
    "    _true_hemorrhage = find_hemorrhages(labels)\n",
    "    if len(_true_hemorrhage) > 0:\n",
    "        true_hemorrhage.extend([len(hem) for hem in _true_hemorrhage])\n",
    "true_hemorrhage = np.array(true_hemorrhage)\n",
    "print(\n",
    "    f\"{len(true_hemorrhage)} hemorrhages, {int(true_hemorrhage.mean())} images +- {int(true_hemorrhage.std())}\"\n",
    ")"
   ]
  },
  {
   "cell_type": "code",
   "execution_count": null,
   "metadata": {},
   "outputs": [],
   "source": [
    "def exam_level_tpr(cutoff):\n",
    "    cutoff_method, cutoff_name = cutoff\n",
    "\n",
    "    df = []\n",
    "    for model_title, model, weak_supervision in tqdm(models):\n",
    "        prediction_df = pd.read_pickle(\n",
    "            os.path.join(prediction_dir, model, \"predictions\")\n",
    "        )\n",
    "        prediction_df.set_index(\"series_idx\", inplace=True)\n",
    "\n",
    "        _df = location_performance_t(\n",
    "            model_title,\n",
    "            prediction_df,\n",
    "            weak_supervision,\n",
    "            cutoff=cutoff_method,\n",
    "        )\n",
    "        df.append(_df)\n",
    "    df = pd.concat(df)\n",
    "    df = df.explode([\"true_hemorrhage_length\", \"hit\"]).reset_index()\n",
    "\n",
    "    _, ax = plt.subplots(figsize=(16 / 2, 9 / 2))\n",
    "    sns.lineplot(data=df, x=\"true_hemorrhage_length\", y=\"hit\", hue=\"est_name\", ax=ax)\n",
    "    ax.set_xlabel(\"Hemorrhage sequence length\")\n",
    "    ax.set_ylabel(\"TPR\")\n",
    "    ax.legend(title=\"\", loc=\"lower right\")\n",
    "    ax.set_title(cutoff_name)\n",
    "\n",
    "    plt.savefig(\n",
    "        os.path.join(figure_dir, f\"RSNA_TPR_{cutoff_method}.jpg\"), bbox_inches=\"tight\"\n",
    "    )\n",
    "    plt.savefig(\n",
    "        os.path.join(figure_dir, f\"RSNA_TPR_{cutoff_method}.pdf\"), bbox_inches=\"tight\"\n",
    "    )\n",
    "    plt.show()\n",
    "    plt.close()"
   ]
  },
  {
   "cell_type": "code",
   "execution_count": null,
   "metadata": {},
   "outputs": [],
   "source": [
    "cutoffs = [(\"youden\", r\"Youden's $J$ statistic\"), (\"d\", r\"Distance to $(0,1)$ point\")]\n",
    "for cutoff in cutoffs:\n",
    "    exam_level_tpr(cutoff)"
   ]
  },
  {
   "cell_type": "code",
   "execution_count": null,
   "metadata": {},
   "outputs": [],
   "source": []
  }
 ],
 "metadata": {
  "kernelspec": {
   "display_name": "Python 3.10.4 ('cuda102')",
   "language": "python",
   "name": "python3"
  },
  "language_info": {
   "codemirror_mode": {
    "name": "ipython",
    "version": 3
   },
   "file_extension": ".py",
   "mimetype": "text/x-python",
   "name": "python",
   "nbconvert_exporter": "python",
   "pygments_lexer": "ipython3",
   "version": "3.10.4"
  },
  "vscode": {
   "interpreter": {
    "hash": "bd8c972ecb72e669b05b9af0bbaad01a2103da39053b5ad2ceb924e75319f022"
   }
  }
 },
 "nbformat": 4,
 "nbformat_minor": 2
}
