{
 "cells": [
  {
   "cell_type": "code",
   "execution_count": null,
   "metadata": {},
   "outputs": [],
   "source": [
    "import os\n",
    "import sys\n",
    "import pandas as pd\n",
    "import matplotlib.pyplot as plt\n",
    "import seaborn as sns\n",
    "from sklearn import metrics\n",
    "\n",
    "root_dir = \"../../\"\n",
    "sys.path.append(root_dir)\n",
    "\n",
    "from utils import models\n",
    "\n",
    "data_dir = os.path.join(root_dir, \"data\")\n",
    "figure_dir = os.path.join(root_dir, \"figures\", \"global\")\n",
    "os.makedirs(figure_dir, exist_ok=True)\n",
    "\n",
    "sns.set_theme()\n",
    "sns.set_context(\"paper\", font_scale=1.5)"
   ]
  },
  {
   "cell_type": "code",
   "execution_count": null,
   "metadata": {},
   "outputs": [],
   "source": [
    "def global_roc(dataset_name):\n",
    "    prediction_dir = os.path.join(data_dir, dataset_name, \"predictions\")\n",
    "\n",
    "    _, ax = plt.subplots(figsize=(5, 5))\n",
    "    for model_title, model_name, weak_supervision in models:\n",
    "        prediction_df = pd.read_pickle(\n",
    "            os.path.join(prediction_dir, model_name, \"predictions\")\n",
    "        )\n",
    "\n",
    "        if weak_supervision:\n",
    "            global_prediction = prediction_df[\"global_logit\"].to_numpy()\n",
    "        else:\n",
    "            global_prediction = (\n",
    "                prediction_df[\"single_slice_logits\"]\n",
    "                .apply(lambda logits: max(logits))\n",
    "                .to_numpy()\n",
    "            )\n",
    "        target = prediction_df[\"target\"].to_numpy()\n",
    "\n",
    "        fpr, tpr, _ = metrics.roc_curve(target, global_prediction)\n",
    "        auc = metrics.auc(fpr, tpr)\n",
    "\n",
    "        ax.plot(\n",
    "            fpr,\n",
    "            tpr,\n",
    "            label=f\"{model_title} (AUC={auc:.3f})\",\n",
    "        )\n",
    "\n",
    "    ax.legend(title=\"\", loc=\"lower right\")\n",
    "    ax.set_aspect(\"equal\", \"box\")\n",
    "    ax.set_xlabel(\"FPR\")\n",
    "    ax.set_ylabel(\"TPR\")\n",
    "    ax.set_xticks([0, 0.5, 1])\n",
    "    ax.set_yticks([0, 0.5, 1])\n",
    "    ax.set_title(dataset_name)\n",
    "    plt.savefig(\n",
    "        os.path.join(figure_dir, f\"{dataset_name}_roc.jpg\"), bbox_inches=\"tight\"\n",
    "    )\n",
    "    plt.savefig(\n",
    "        os.path.join(figure_dir, f\"{dataset_name}_roc.pdf\"), bbox_inches=\"tight\"\n",
    "    )\n",
    "    plt.show()\n",
    "    plt.close()"
   ]
  },
  {
   "cell_type": "code",
   "execution_count": null,
   "metadata": {},
   "outputs": [],
   "source": [
    "datasets = [\"RSNA\", \"CQ500\", \"CT-ICH\"]\n",
    "for dataset in datasets:\n",
    "    global_roc(dataset)"
   ]
  }
 ],
 "metadata": {
  "kernelspec": {
   "display_name": "Python 3.10.4 ('cuda102')",
   "language": "python",
   "name": "python3"
  },
  "language_info": {
   "codemirror_mode": {
    "name": "ipython",
    "version": 3
   },
   "file_extension": ".py",
   "mimetype": "text/x-python",
   "name": "python",
   "nbconvert_exporter": "python",
   "pygments_lexer": "ipython3",
   "version": "3.10.4"
  },
  "vscode": {
   "interpreter": {
    "hash": "bd8c972ecb72e669b05b9af0bbaad01a2103da39053b5ad2ceb924e75319f022"
   }
  }
 },
 "nbformat": 4,
 "nbformat_minor": 2
}
