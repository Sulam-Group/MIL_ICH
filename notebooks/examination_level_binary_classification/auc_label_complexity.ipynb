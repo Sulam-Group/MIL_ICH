{
 "cells": [
  {
   "cell_type": "code",
   "execution_count": null,
   "metadata": {},
   "outputs": [],
   "source": [
    "import os\n",
    "import sys\n",
    "import pandas as pd\n",
    "import numpy as np\n",
    "import matplotlib.pyplot as plt\n",
    "import seaborn as sns\n",
    "from sklearn import metrics\n",
    "from tqdm import tqdm\n",
    "\n",
    "root_dir = \"../../\"\n",
    "sys.path.append(root_dir)\n",
    "\n",
    "from utils import label_complexity_models as models\n",
    "\n",
    "data_dir = os.path.join(root_dir, \"data\")\n",
    "figure_dir = os.path.join(root_dir, \"figures\", \"global\")\n",
    "os.makedirs(figure_dir, exist_ok=True)\n",
    "\n",
    "sns.set_theme()\n",
    "sns.set_context(\"paper\", font_scale=1.5)"
   ]
  },
  {
   "cell_type": "code",
   "execution_count": null,
   "metadata": {},
   "outputs": [],
   "source": [
    "def global_auc_label_complexity(dataset):\n",
    "    dataset_dir, dataset_name, prediction_file_name = dataset\n",
    "\n",
    "    df = []\n",
    "    for model_title, model, weak_supervision in tqdm(models):\n",
    "        m = int(model.split(\"/\")[-2])\n",
    "        prediction_df = pd.read_pickle(\n",
    "            os.path.join(dataset_dir, \"predictions\", model, prediction_file_name)\n",
    "        )\n",
    "\n",
    "        if weak_supervision:\n",
    "            global_prediction = prediction_df[\"global_logit\"].to_numpy()\n",
    "        else:\n",
    "            global_prediction = (\n",
    "                prediction_df[\"single_slice_logits\"]\n",
    "                .apply(lambda logits: max(logits))\n",
    "                .to_numpy()\n",
    "            )\n",
    "        target = prediction_df[\"target\"].to_numpy()\n",
    "\n",
    "        fpr, tpr, _ = metrics.roc_curve(target, global_prediction)\n",
    "        auc = metrics.auc(fpr, tpr)\n",
    "        df.append(\n",
    "            {\n",
    "                \"dataset_name\": dataset_name,\n",
    "                \"model_title\": model_title,\n",
    "                \"m\": m,\n",
    "                \"auc\": auc,\n",
    "            }\n",
    "        )\n",
    "    df = pd.DataFrame(df)\n",
    "\n",
    "    _, ax = plt.subplots(figsize=(5, 5))\n",
    "    sns.lineplot(data=df, x=\"m\", y=\"auc\", hue=\"model_title\", estimator=np.mean)\n",
    "    ax.set_xlabel(r\"$m$\")\n",
    "    ax.set_ylabel(\"AUC\")\n",
    "    ax.set_xscale(\"log\")\n",
    "    ax.legend(loc=\"lower right\")\n",
    "    ax.set_title(dataset_name)\n",
    "\n",
    "    plt.savefig(\n",
    "        os.path.join(figure_dir, f\"{dataset_name}_auc_label_complexity.jpg\"),\n",
    "        bbox_inches=\"tight\",\n",
    "    )\n",
    "    plt.savefig(\n",
    "        os.path.join(figure_dir, f\"{dataset_name}_auc_label_complexity.pdf\"),\n",
    "        bbox_inches=\"tight\",\n",
    "    )\n",
    "    plt.show()\n",
    "    plt.close()"
   ]
  },
  {
   "cell_type": "code",
   "execution_count": null,
   "metadata": {},
   "outputs": [],
   "source": [
    "datasets = [\n",
    "    (os.path.join(data_dir, \"RSNA\"), \"RSNA\", \"predictions_fixed\"),\n",
    "    (os.path.join(data_dir, \"CT-ICH\"), \"CT-ICH\", \"predictions\"),\n",
    "    (os.path.join(data_dir, \"CQ500\"), \"CQ500\", \"predictions\"),\n",
    "]\n",
    "for dataset in datasets:\n",
    "    global_auc_label_complexity(dataset)"
   ]
  }
 ],
 "metadata": {
  "interpreter": {
   "hash": "bd8c972ecb72e669b05b9af0bbaad01a2103da39053b5ad2ceb924e75319f022"
  },
  "kernelspec": {
   "display_name": "Python 3.8.10 64-bit ('cuda102': conda)",
   "name": "python3"
  },
  "language_info": {
   "codemirror_mode": {
    "name": "ipython",
    "version": 3
   },
   "file_extension": ".py",
   "mimetype": "text/x-python",
   "name": "python",
   "nbconvert_exporter": "python",
   "pygments_lexer": "ipython3",
   "version": "3.10.4"
  }
 },
 "nbformat": 4,
 "nbformat_minor": 2
}
