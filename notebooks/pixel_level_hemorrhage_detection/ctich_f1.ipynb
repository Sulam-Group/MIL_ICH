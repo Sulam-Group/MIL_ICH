{
 "cells": [
  {
   "cell_type": "code",
   "execution_count": null,
   "metadata": {},
   "outputs": [],
   "source": [
    "import os\n",
    "import pandas as pd\n",
    "import matplotlib.pyplot as plt\n",
    "import seaborn as sns\n",
    "from f1_utils import ctich_f1\n",
    "\n",
    "root_dir = \"../../\"\n",
    "\n",
    "data_dir = os.path.join(root_dir, \"data\")\n",
    "ctich_dir = os.path.join(data_dir, \"CT-ICH\")\n",
    "image_dir = os.path.join(ctich_dir, \"images\")\n",
    "mask_dir = os.path.join(ctich_dir, \"masks\")\n",
    "figure_dir = os.path.join(root_dir, \"figures\", \"image_level\")\n",
    "os.makedirs(figure_dir, exist_ok=True)\n",
    "\n",
    "sns.set_theme()\n",
    "sns.set_context(\"paper\", font_scale=1.5)"
   ]
  },
  {
   "cell_type": "code",
   "execution_count": null,
   "metadata": {},
   "outputs": [],
   "source": [
    "if not os.path.exists(os.path.join(ctich_dir, \"explanations\", \"image_level_f1\")):\n",
    "    ctich_f1()\n",
    "f1_df = pd.read_pickle(os.path.join(ctich_dir, \"explanations\", \"image_level_f1\"))"
   ]
  },
  {
   "cell_type": "code",
   "execution_count": null,
   "metadata": {},
   "outputs": [],
   "source": [
    "from scipy.stats import iqr\n",
    "\n",
    "df = f1_df.explode(\"hemorrhage_types\", ignore_index=True)\n",
    "\n",
    "for metric, name in [\n",
    "    (\"f1\", \"Dice score\"),\n",
    "    (\"precision\", \"precision\"),\n",
    "    (\"recall\", \"recall\"),\n",
    "]:\n",
    "    _, ax = plt.subplots(figsize=(16 / 2, 9 / 2))\n",
    "    ax = sns.boxplot(\n",
    "        data=df.explode(\"hemorrhage_types\", ignore_index=True),\n",
    "        x=\"hemorrhage_types\",\n",
    "        y=metric,\n",
    "        hue=\"model_explainer\",\n",
    "        ax=ax,\n",
    "        palette=sns.color_palette()[:2] + sns.color_palette(\"pastel\")[:2],\n",
    "        order=sorted(pd.unique(df[\"hemorrhage_types\"])),\n",
    "    )\n",
    "    ax.set_xlabel(\"Hemorrhage type\")\n",
    "    ax.set_ylabel(name)\n",
    "    ax.set_ylim(-0.05, 1.05)\n",
    "    xticklabels = ax.get_xticklabels()\n",
    "    for tick in xticklabels:\n",
    "        hem_type = tick.get_text()\n",
    "        tick.set_text(\n",
    "            f\"{hem_type} ({len(df[df['hemorrhage_types'] == hem_type]) // 4})\"\n",
    "        )\n",
    "    ax.set_xticklabels(xticklabels)\n",
    "    ax.legend(title=\"\", loc=\"upper left\", bbox_to_anchor=(1, 1))\n",
    "    ax.set_title(\"CT-ICH\")\n",
    "\n",
    "    plt.savefig(\n",
    "        os.path.join(figure_dir, f\"CT-ICH_{metric}_ICH_type.jpg\"), bbox_inches=\"tight\"\n",
    "    )\n",
    "    plt.savefig(\n",
    "        os.path.join(figure_dir, f\"CT-ICH_{metric}_ICH_type.pdf\"), bbox_inches=\"tight\"\n",
    "    )\n",
    "    plt.show()"
   ]
  },
  {
   "cell_type": "code",
   "execution_count": null,
   "metadata": {},
   "outputs": [],
   "source": [
    "median_iqr_df = df.groupby([\"hemorrhage_types\", \"model_explainer\"]).agg(\n",
    "    {\"f1\": [\"median\", iqr]}\n",
    ")\n",
    "median_iqr_df"
   ]
  },
  {
   "cell_type": "code",
   "execution_count": null,
   "metadata": {},
   "outputs": [],
   "source": [
    "worst_df = df.loc[df.groupby([\"hemorrhage_types\", \"model_explainer\"])[\"f1\"].idxmin()]\n",
    "\n",
    "for _, data in worst_df.iterrows():\n",
    "    print(\n",
    "        data[\"hemorrhage_types\"],\n",
    "        data[\"model\"],\n",
    "        data[\"explainer\"],\n",
    "        data[\"patient_number\"],\n",
    "        data[\"slice_idx\"] + 1,\n",
    "        data[\"f1\"],\n",
    "    )"
   ]
  }
 ],
 "metadata": {
  "interpreter": {
   "hash": "bd8c972ecb72e669b05b9af0bbaad01a2103da39053b5ad2ceb924e75319f022"
  },
  "kernelspec": {
   "display_name": "Python 3.8.10 64-bit ('cuda102': conda)",
   "language": "python",
   "name": "python3"
  },
  "language_info": {
   "codemirror_mode": {
    "name": "ipython",
    "version": 3
   },
   "file_extension": ".py",
   "mimetype": "text/x-python",
   "name": "python",
   "nbconvert_exporter": "python",
   "pygments_lexer": "ipython3",
   "version": "3.10.4"
  }
 },
 "nbformat": 4,
 "nbformat_minor": 2
}
